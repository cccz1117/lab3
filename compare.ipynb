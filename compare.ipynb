{
 "cells": [
  {
   "cell_type": "code",
   "execution_count": 11,
   "metadata": {},
   "outputs": [],
   "source": [
    "new_txt_file_path = './key.txt'\n",
    "with open(new_txt_file_path, 'r') as file:\n",
    "    correct_answers = [line.strip() for line in file.readlines()]"
   ]
  },
  {
   "cell_type": "code",
   "execution_count": 12,
   "metadata": {},
   "outputs": [],
   "source": [
    "import json\n",
    "import pandas as pd\n",
    "\n",
    "# Load the JSON data\n",
    "json_file_path = './qwq_generated_results.json'\n",
    "with open(json_file_path, 'r') as file:\n",
    "    generated_results = [json.loads(line) for line in file]\n",
    "\n",
    "# Convert JSON data to a DataFrame\n",
    "generated_qwen_results_df = pd.DataFrame(generated_results)"
   ]
  },
  {
   "cell_type": "code",
   "execution_count": 13,
   "metadata": {},
   "outputs": [],
   "source": [
    "json_file_path = './l8b_generated_results.json'\n",
    "with open(json_file_path, 'r') as file:\n",
    "    generated_results = [json.loads(line) for line in file]\n",
    "\n",
    "# Convert JSON data to a DataFrame\n",
    "generated_l8b_results_df = pd.DataFrame(generated_results)"
   ]
  },
  {
   "cell_type": "code",
   "execution_count": 14,
   "metadata": {},
   "outputs": [],
   "source": [
    "json_file_path = './70B_generated_results.json'\n",
    "with open(json_file_path, 'r') as file:\n",
    "    generated_results = [json.loads(line) for line in file]\n",
    "\n",
    "# Convert JSON data to a DataFrame\n",
    "generated_70b_results_df = pd.DataFrame(generated_results)"
   ]
  },
  {
   "cell_type": "code",
   "execution_count": 15,
   "metadata": {},
   "outputs": [],
   "source": [
    "json_file_path = './405B_generated_results.json'\n",
    "with open(json_file_path, 'r') as file:\n",
    "    generated_results = [json.loads(line) for line in file]\n",
    "\n",
    "# Convert JSON data to a DataFrame\n",
    "generated_405b_results_df = pd.DataFrame(generated_results)"
   ]
  },
  {
   "cell_type": "code",
   "execution_count": 16,
   "metadata": {},
   "outputs": [],
   "source": [
    "generated_qwen_results_df['correct_answer'] = correct_answers\n",
    "\n",
    "# Calculate overall accuracy\n",
    "generated_qwen_results_df['is_correct'] = (\n",
    "    generated_qwen_results_df['answer'] == generated_qwen_results_df['correct_answer']\n",
    ")\n",
    "overall_qwen_accuracy = generated_qwen_results_df['is_correct'].mean()"
   ]
  },
  {
   "cell_type": "code",
   "execution_count": 17,
   "metadata": {},
   "outputs": [],
   "source": [
    "generated_l8b_results_df['correct_answer'] = correct_answers\n",
    "\n",
    "# Calculate overall accuracy\n",
    "generated_l8b_results_df['is_correct'] = (\n",
    "    generated_l8b_results_df['answer'] == generated_l8b_results_df['correct_answer']\n",
    ")\n",
    "overall_8B_accuracy = generated_l8b_results_df['is_correct'].mean()"
   ]
  },
  {
   "cell_type": "code",
   "execution_count": 18,
   "metadata": {},
   "outputs": [],
   "source": [
    "generated_70b_results_df['correct_answer'] = correct_answers\n",
    "\n",
    "# Calculate overall accuracy\n",
    "generated_70b_results_df['is_correct'] = (\n",
    "    generated_70b_results_df['answer'] == generated_70b_results_df['correct_answer']\n",
    ")\n",
    "overall_70B_accuracy = generated_70b_results_df['is_correct'].mean()"
   ]
  },
  {
   "cell_type": "code",
   "execution_count": 19,
   "metadata": {},
   "outputs": [],
   "source": [
    "generated_405b_results_df['correct_answer'] = correct_answers\n",
    "\n",
    "# Calculate overall accuracy\n",
    "generated_405b_results_df['is_correct'] = (\n",
    "    generated_405b_results_df['answer'] == generated_405b_results_df['correct_answer']\n",
    ")\n",
    "overall_405B_accuracy = generated_405b_results_df['is_correct'].mean()"
   ]
  },
  {
   "cell_type": "code",
   "execution_count": 20,
   "metadata": {},
   "outputs": [
    {
     "data": {
      "text/plain": [
       "(0.2413793103448276,\n",
       " 0.4482758620689655,\n",
       " 0.6206896551724138,\n",
       " 0.5172413793103449)"
      ]
     },
     "execution_count": 20,
     "metadata": {},
     "output_type": "execute_result"
    }
   ],
   "source": [
    "overall_8B_accuracy, overall_70B_accuracy, overall_405B_accuracy, overall_qwen_accuracy"
   ]
  },
  {
   "cell_type": "code",
   "execution_count": null,
   "metadata": {},
   "outputs": [],
   "source": []
  }
 ],
 "metadata": {
  "kernelspec": {
   "display_name": "base",
   "language": "python",
   "name": "python3"
  },
  "language_info": {
   "codemirror_mode": {
    "name": "ipython",
    "version": 3
   },
   "file_extension": ".py",
   "mimetype": "text/x-python",
   "name": "python",
   "nbconvert_exporter": "python",
   "pygments_lexer": "ipython3",
   "version": "3.11.7"
  }
 },
 "nbformat": 4,
 "nbformat_minor": 4
}
